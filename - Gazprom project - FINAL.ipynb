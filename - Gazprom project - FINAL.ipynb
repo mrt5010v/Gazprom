{
 "cells": [
  {
   "cell_type": "markdown",
   "id": "51da37c3",
   "metadata": {},
   "source": [
    "# Working with Files Using Python, Pandas and SQLite3\n",
    "\n",
    "> Data Engineering task I was given to do by Gazprom Energy as a part of an interview.\n",
    "Please find the requirements link below.\n",
    "https://github.com/mrt5010v/Gazprom/blob/main/Data%20Exercise%20-%20Requirements.pdf\n",
    ".\n",
    "Data Cleaning, Data Processing, Data Visualization and SQL queries of a Data Base files gathered by Gas Meters.\n",
    "\n",
    "- toc: false\n",
    "- badges: true\n",
    "- comments: true\n",
    "- categories: [Data Science, Data Visualization, SQLite3, Pandas, Working with Files using Python, SQL Queries]\n",
    "- image: images/GasMeter.png"
   ]
  },
  {
   "cell_type": "markdown",
   "id": "877c073e",
   "metadata": {},
   "source": [
    "#### Let's begin with the imports."
   ]
  },
  {
   "cell_type": "code",
   "execution_count": 1,
   "id": "f668c1d6",
   "metadata": {},
   "outputs": [],
   "source": [
    "import sqlite3 as sql\n",
    "import csv\n",
    "import os\n",
    "import stat\n",
    "import os.path\n",
    "import glob\n",
    "\n",
    "from collections import Counter\n",
    "import re\n",
    "import pandas as pd\n",
    "import numpy as np\n",
    "import matplotlib.pyplot as plt\n",
    "import shutil\n",
    "\n",
    "from time import gmtime, strftime\n",
    "\n",
    "# The two lines below allow us to see all the columns without truncation.\n",
    "# It allows us to see the dataset better.\n",
    "pd.options.display.max_columns = None\n",
    "pd.options.display.max_rows = None"
   ]
  },
  {
   "cell_type": "markdown",
   "id": "9759d898",
   "metadata": {},
   "source": [
    "### "
   ]
  },
  {
   "cell_type": "markdown",
   "id": "e65449e0",
   "metadata": {},
   "source": [
    "#### First of all I want to join the path and the files inside of the 'sample_data' folder."
   ]
  },
  {
   "cell_type": "code",
   "execution_count": 2,
   "id": "f0719afc",
   "metadata": {},
   "outputs": [],
   "source": [
    "def path_merger(file_directory_path):\n",
    "    '''\n",
    "    This function merges the 'file_directory_path' path with the files inside of the folder.\n",
    "    Returns the number of the files found in the directory.\n",
    "    '''\n",
    "    \n",
    "    # We assign 'file_dir' variable to be string with the path to the sample data files.\n",
    "    file_dir = file_directory_path\n",
    "    \n",
    "    # Merges the sample data folder path with the file name.\n",
    "    file_list = [os.path.join(file_dir, file) for file in os.listdir(file_dir)]\n",
    "    \n",
    "    return file_list"
   ]
  },
  {
   "cell_type": "code",
   "execution_count": 3,
   "id": "0a89ead1",
   "metadata": {},
   "outputs": [],
   "source": [
    "try:\n",
    "    file_list = path_merger('./sample_data/')\n",
    "except FileNotFoundError as err:\n",
    "    print('FileNotFoundError: [WinError 3] The system cannot find the specified path. Please try again.')"
   ]
  },
  {
   "cell_type": "markdown",
   "id": "a61bda95",
   "metadata": {},
   "source": [
    "#### We can see the result of the function 'path_merger'  in the sliced variable 'file_list' below. "
   ]
  },
  {
   "cell_type": "code",
   "execution_count": 4,
   "id": "b6545b73",
   "metadata": {
    "scrolled": true
   },
   "outputs": [
    {
     "data": {
      "text/plain": [
       "['./sample_data/PN000001.SMRT',\n",
       " './sample_data/PN000002.SMRT',\n",
       " './sample_data/PN000003.SMRT']"
      ]
     },
     "execution_count": 4,
     "metadata": {},
     "output_type": "execute_result"
    }
   ],
   "source": [
    "file_list[:3]"
   ]
  },
  {
   "cell_type": "code",
   "execution_count": 5,
   "id": "e89f51f2",
   "metadata": {},
   "outputs": [
    {
     "data": {
      "text/plain": [
       "12"
      ]
     },
     "execution_count": 5,
     "metadata": {},
     "output_type": "execute_result"
    }
   ],
   "source": [
    "len(file_list)"
   ]
  },
  {
   "cell_type": "markdown",
   "id": "0c24f1ec",
   "metadata": {},
   "source": [
    "#### Next we need to check if the files are complete. In other words we can check if the files have the both keywords ('HEADR' and 'TRAIL'). If the files have both of the keywords a copy of them is made in other folder."
   ]
  },
  {
   "cell_type": "markdown",
   "id": "dd02f41a",
   "metadata": {},
   "source": [
    "#### As an example we can see in the cell below the number of keywords each file has.\n",
    "#### For functionallity check I added a file called 'PN000012' without 'TRAIL' keyword and another file called 'PN000011' both of the files are copy of 'PN000010'."
   ]
  },
  {
   "cell_type": "code",
   "execution_count": 6,
   "id": "89ddb2cc",
   "metadata": {},
   "outputs": [
    {
     "data": {
      "text/plain": [
       "['0 - 2',\n",
       " '1 - 2',\n",
       " '2 - 2',\n",
       " '3 - 2',\n",
       " '4 - 2',\n",
       " '5 - 2',\n",
       " '6 - 2',\n",
       " '7 - 2',\n",
       " '8 - 2',\n",
       " '9 - 2',\n",
       " '10 - 2',\n",
       " '11 - 1']"
      ]
     },
     "execution_count": 6,
     "metadata": {},
     "output_type": "execute_result"
    }
   ],
   "source": [
    "# This cell is only as example\n",
    "# This for loop is counting the 'keywords' in the files\n",
    "\n",
    "counter_for_the_files = []\n",
    "\n",
    "for i in range(len(file_list)):\n",
    "    \n",
    "    with open(file_list[i], 'r', encoding='utf-8') as file:\n",
    "        key_words = ['HEADR', 'TRAIL']\n",
    "        key_word_counter = 0\n",
    "        for line in file:\n",
    "            for word in key_words:\n",
    "                if word in line:\n",
    "                    key_word_counter += 1\n",
    "        counter_for_the_files.append(str(i) + ' - ' + str(key_word_counter))\n",
    "    \n",
    "counter_for_the_files"
   ]
  },
  {
   "cell_type": "code",
   "execution_count": 7,
   "id": "92c7855b",
   "metadata": {},
   "outputs": [],
   "source": [
    "def function_that_finds_the_complete_files_and_saves_a_copy(list_of_files):\n",
    "    '''\n",
    "    This function finds the number of the files that have two 'keywords' (complete files) - 'HEADR' and 'TRAIL'.\n",
    "    Furthermore, it will separate the files that passed the check in other folder.\n",
    "    In that way we can work with complete files.\n",
    "    '''\n",
    "    \n",
    "    counter_for_the_files = []\n",
    "    \n",
    "    # This for loop collects the number of the file that has both 'keywords'.\n",
    "    for i in range(len(file_list)):\n",
    "        \n",
    "        with open(list_of_files[i], 'r', encoding='utf-8') as file:\n",
    "            key_words = ['HEADR', 'TRAIL']\n",
    "            key_word_counter = 0\n",
    "            for line in file:\n",
    "                for word in key_words:\n",
    "                    if word in line:\n",
    "                        key_word_counter += 1\n",
    "                        \n",
    "                if key_word_counter == 2:\n",
    "                    counter_for_the_files.append(i)\n",
    "\n",
    "                else:\n",
    "                    pass\n",
    "            \n",
    "    counter_for_the_files\n",
    "    \n",
    "    \n",
    "    # The only thing that we need to do manually is to create the folder, where we will store the files: 'pandas_data'\n",
    "    # We copy the files that pass the initial test so we can remove the keywords\n",
    "\n",
    "    for i in range(len(counter_for_the_files)):\n",
    "        # If the file is  in the list, then it means that the file is complete and we do want to use it.\n",
    "        if i in counter_for_the_files:\n",
    "            shutil.copyfile(list_of_files[i], './pandas_data/' + str(list_of_files[i][14:22]) + '_copy.SMRT')\n",
    "        # If the file doesn't have both of the keywords we want to remove them.\n",
    "        else:\n",
    "            pass\n",
    "    return counter_for_the_files"
   ]
  },
  {
   "cell_type": "code",
   "execution_count": 8,
   "id": "a7ba83c3",
   "metadata": {},
   "outputs": [
    {
     "data": {
      "text/plain": [
       "[0, 1, 2, 3, 4, 5, 6, 7, 8, 9, 10]"
      ]
     },
     "execution_count": 8,
     "metadata": {},
     "output_type": "execute_result"
    }
   ],
   "source": [
    "function_that_finds_the_complete_files_and_saves_a_copy(file_list)"
   ]
  },
  {
   "cell_type": "markdown",
   "id": "5e1f175f",
   "metadata": {},
   "source": [
    "#### As we can see the number of files is 11, which means that we have removed the one which is not complete."
   ]
  },
  {
   "cell_type": "markdown",
   "id": "3be15088",
   "metadata": {},
   "source": [
    "#### Next we use the function we defined earlier to join the path and the copied files that have passed the requirement."
   ]
  },
  {
   "cell_type": "code",
   "execution_count": 9,
   "id": "7df45db7",
   "metadata": {},
   "outputs": [],
   "source": [
    "# We assign 'pandas_file_dir' be string with the path to the copied sample data files.\n",
    "try:\n",
    "    pandas_file_dir = path_merger('./pandas_data/')\n",
    "except FileNotFoundError as err:\n",
    "    print('FileNotFoundError: [WinError 3] The system cannot find the specified path. Please try again.')"
   ]
  },
  {
   "cell_type": "markdown",
   "id": "a7b097ce",
   "metadata": {},
   "source": [
    "#### We can start the cleaning process.\n",
    "#### The following code removes the keywords mentioned earlier, we can leave them in or remove them the cell below is optional.\n",
    "#### But we will not delete the main files, that will ruin the data that we collected. We need to save the new files in a new folder that will contain only data that is reliable and it can be loaded straight to 'Pandas' for additional work."
   ]
  },
  {
   "cell_type": "code",
   "execution_count": 10,
   "id": "d869a649",
   "metadata": {},
   "outputs": [],
   "source": [
    "# CAN BE IGNORED\n",
    "def key_words_cleaner(filtered_file_list):\n",
    "    '''\n",
    "    This function is optional it deletes the keywords of the copy we have saved.\n",
    "    Opens to read all the files and replaces the items of the list with empty strings\n",
    "    and saves it to empty list 'text' and then writes the contents of 'text' to the already read file.\n",
    "    '''\n",
    "    \n",
    "    for i in range(len(filtered_file_list)):\n",
    "        with open(filtered_file_list[i], 'r', encoding='utf-8') as file:\n",
    "            key_words = ['HEADR', 'TRAIL']\n",
    "            text = []\n",
    "            for line in file:\n",
    "                for word in key_words:\n",
    "                    line = line.replace(word, '')\n",
    "                text.append(line)\n",
    "        with open(filtered_file_list[i], 'w+', encoding='utf-8') as file:\n",
    "            for line in text:\n",
    "                file.write(line)"
   ]
  },
  {
   "cell_type": "code",
   "execution_count": 11,
   "id": "150e3423",
   "metadata": {},
   "outputs": [],
   "source": [
    "key_words_cleaner(pandas_file_dir)"
   ]
  },
  {
   "cell_type": "markdown",
   "id": "81c0cb1c",
   "metadata": {},
   "source": [
    "#### Now we can proceed with the editing using Pandas."
   ]
  },
  {
   "cell_type": "code",
   "execution_count": 12,
   "id": "9138667a",
   "metadata": {},
   "outputs": [],
   "source": [
    "def preliminary_pandas_editor(filtered_file_list):\n",
    "    '''\n",
    "    This function does initial preparation for the data.\n",
    "    '''\n",
    "       \n",
    "    for i in range(len(filtered_file_list)):\n",
    "        \n",
    "        # We can skip the footer, because it is full of 'NaN'-s, clear the header.\n",
    "        dataframe = pd.read_csv(filtered_file_list[i], skipfooter = 1, header = None, engine = 'python')\n",
    "        \n",
    "        # Give proper names to the columns.\n",
    "        dataframe.columns = ['record_identifier', 'meter_number', 'measurement_date', 'measurement_time', 'consumption', 'table_info'] \n",
    "        \n",
    "        # Creating new columns with information taken from the first 'HEADR' row.\n",
    "        dataframe[['file_type_identifier']] = str(dataframe['meter_number'].iloc[0])\n",
    "        dataframe[['company_id']] = str(dataframe['measurement_date'].iloc[0])\n",
    "        dataframe[['file_creation_date']] = str(dataframe['measurement_time'].iloc[0])\n",
    "        dataframe[['file_creation_time']] = str(dataframe['consumption'].iloc[0])[:-2]\n",
    "        dataframe[['file_generation_number']] = str(dataframe['table_info'].iloc[0])\n",
    "        \n",
    "        dataframe['measurement_time'] = dataframe['measurement_time'].astype(object)\n",
    "        dataframe['measurement_date'] = dataframe['measurement_date'].astype(object)\n",
    "        dataframe['file_creation_date'] = dataframe['file_creation_date'].astype(object)\n",
    "        dataframe['file_creation_time'] = dataframe['file_creation_time'].astype(object)\n",
    "        \n",
    "        # We can delete the first row because we got the info from it assigned to new columns.\n",
    "        dataframe.drop(labels = 0, axis = 0, inplace = True)\n",
    "        \n",
    "        # We can delete this column, it is empty and we don't need it.\n",
    "        dataframe.drop(['table_info'], axis = 1, inplace = True)\n",
    "        \n",
    "        dataframe.to_csv(filtered_file_list[i], encoding='utf-8')\n",
    "        "
   ]
  },
  {
   "cell_type": "code",
   "execution_count": 13,
   "id": "d81fc957",
   "metadata": {},
   "outputs": [],
   "source": [
    "preliminary_pandas_editor(pandas_file_dir)"
   ]
  },
  {
   "cell_type": "markdown",
   "id": "419b35bc",
   "metadata": {},
   "source": [
    "#### We can see an example of what we have done so far."
   ]
  },
  {
   "cell_type": "code",
   "execution_count": 14,
   "id": "b7c23d4f",
   "metadata": {},
   "outputs": [],
   "source": [
    "test_1 = pd.read_csv(pandas_file_dir[0], index_col = 'Unnamed: 0')"
   ]
  },
  {
   "cell_type": "code",
   "execution_count": 15,
   "id": "5b57eb81",
   "metadata": {
    "scrolled": true
   },
   "outputs": [
    {
     "data": {
      "text/html": [
       "<div>\n",
       "<style scoped>\n",
       "    .dataframe tbody tr th:only-of-type {\n",
       "        vertical-align: middle;\n",
       "    }\n",
       "\n",
       "    .dataframe tbody tr th {\n",
       "        vertical-align: top;\n",
       "    }\n",
       "\n",
       "    .dataframe thead th {\n",
       "        text-align: right;\n",
       "    }\n",
       "</style>\n",
       "<table border=\"1\" class=\"dataframe\">\n",
       "  <thead>\n",
       "    <tr style=\"text-align: right;\">\n",
       "      <th></th>\n",
       "      <th>record_identifier</th>\n",
       "      <th>meter_number</th>\n",
       "      <th>measurement_date</th>\n",
       "      <th>measurement_time</th>\n",
       "      <th>consumption</th>\n",
       "      <th>file_type_identifier</th>\n",
       "      <th>company_id</th>\n",
       "      <th>file_creation_date</th>\n",
       "      <th>file_creation_time</th>\n",
       "      <th>file_generation_number</th>\n",
       "    </tr>\n",
       "  </thead>\n",
       "  <tbody>\n",
       "    <tr>\n",
       "      <th>1</th>\n",
       "      <td>CONSU</td>\n",
       "      <td>2</td>\n",
       "      <td>20191014</td>\n",
       "      <td>1100</td>\n",
       "      <td>10.28</td>\n",
       "      <td>SMRT</td>\n",
       "      <td>GAZ</td>\n",
       "      <td>20191016</td>\n",
       "      <td>102939</td>\n",
       "      <td>PN000001</td>\n",
       "    </tr>\n",
       "    <tr>\n",
       "      <th>2</th>\n",
       "      <td>CONSU</td>\n",
       "      <td>2</td>\n",
       "      <td>20191014</td>\n",
       "      <td>1200</td>\n",
       "      <td>2.84</td>\n",
       "      <td>SMRT</td>\n",
       "      <td>GAZ</td>\n",
       "      <td>20191016</td>\n",
       "      <td>102939</td>\n",
       "      <td>PN000001</td>\n",
       "    </tr>\n",
       "    <tr>\n",
       "      <th>3</th>\n",
       "      <td>CONSU</td>\n",
       "      <td>2</td>\n",
       "      <td>20191014</td>\n",
       "      <td>1300</td>\n",
       "      <td>14.65</td>\n",
       "      <td>SMRT</td>\n",
       "      <td>GAZ</td>\n",
       "      <td>20191016</td>\n",
       "      <td>102939</td>\n",
       "      <td>PN000001</td>\n",
       "    </tr>\n",
       "    <tr>\n",
       "      <th>4</th>\n",
       "      <td>CONSU</td>\n",
       "      <td>2</td>\n",
       "      <td>20191014</td>\n",
       "      <td>1400</td>\n",
       "      <td>11.69</td>\n",
       "      <td>SMRT</td>\n",
       "      <td>GAZ</td>\n",
       "      <td>20191016</td>\n",
       "      <td>102939</td>\n",
       "      <td>PN000001</td>\n",
       "    </tr>\n",
       "    <tr>\n",
       "      <th>5</th>\n",
       "      <td>CONSU</td>\n",
       "      <td>2</td>\n",
       "      <td>20191014</td>\n",
       "      <td>1500</td>\n",
       "      <td>14.02</td>\n",
       "      <td>SMRT</td>\n",
       "      <td>GAZ</td>\n",
       "      <td>20191016</td>\n",
       "      <td>102939</td>\n",
       "      <td>PN000001</td>\n",
       "    </tr>\n",
       "  </tbody>\n",
       "</table>\n",
       "</div>"
      ],
      "text/plain": [
       "  record_identifier  meter_number  measurement_date  measurement_time  \\\n",
       "1             CONSU             2          20191014              1100   \n",
       "2             CONSU             2          20191014              1200   \n",
       "3             CONSU             2          20191014              1300   \n",
       "4             CONSU             2          20191014              1400   \n",
       "5             CONSU             2          20191014              1500   \n",
       "\n",
       "   consumption file_type_identifier company_id  file_creation_date  \\\n",
       "1        10.28                 SMRT        GAZ            20191016   \n",
       "2         2.84                 SMRT        GAZ            20191016   \n",
       "3        14.65                 SMRT        GAZ            20191016   \n",
       "4        11.69                 SMRT        GAZ            20191016   \n",
       "5        14.02                 SMRT        GAZ            20191016   \n",
       "\n",
       "   file_creation_time file_generation_number  \n",
       "1              102939               PN000001  \n",
       "2              102939               PN000001  \n",
       "3              102939               PN000001  \n",
       "4              102939               PN000001  \n",
       "5              102939               PN000001  "
      ]
     },
     "execution_count": 15,
     "metadata": {},
     "output_type": "execute_result"
    }
   ],
   "source": [
    "test_1.head()"
   ]
  },
  {
   "cell_type": "markdown",
   "id": "8764fb35",
   "metadata": {},
   "source": [
    "#### The function earlier that made a copy of the files might have copied files with the same name. The following code removed any repetition."
   ]
  },
  {
   "cell_type": "markdown",
   "id": "f46aab7e",
   "metadata": {},
   "source": [
    "#### The cell below shows an example, where we have copy of 'PN000010'."
   ]
  },
  {
   "cell_type": "code",
   "execution_count": 16,
   "id": "0059a1c4",
   "metadata": {},
   "outputs": [
    {
     "data": {
      "text/plain": [
       "['PN000001',\n",
       " 'PN000002',\n",
       " 'PN000003',\n",
       " 'PN000004',\n",
       " 'PN000005',\n",
       " 'PN000006',\n",
       " 'PN000007',\n",
       " 'PN000008',\n",
       " 'PN000009',\n",
       " 'PN000010',\n",
       " 'PN000010']"
      ]
     },
     "execution_count": 16,
     "metadata": {},
     "output_type": "execute_result"
    }
   ],
   "source": [
    "list_for_checking_repeating = []\n",
    "\n",
    "for i in range(len(pandas_file_dir)):\n",
    "    dataframe = pd.read_csv(pandas_file_dir[i], index_col = 'Unnamed: 0')\n",
    "    list_for_checking_repeating.append(dataframe['file_generation_number'].iloc[0])\n",
    "\n",
    "list_for_checking_repeating"
   ]
  },
  {
   "cell_type": "code",
   "execution_count": 17,
   "id": "dbbffeb9",
   "metadata": {},
   "outputs": [],
   "source": [
    "def repetition_remover(filtered_file_list):\n",
    "    '''\n",
    "    Removes the duplicate files from the copy folder.\n",
    "    '''\n",
    "    \n",
    "    # As per the cell above this list variable stores all the files in the copy folder.\n",
    "    list_for_checking_repeating = []\n",
    "    \n",
    "    # 'new list' is used to store the new list without repetitions.\n",
    "    new_list = []\n",
    "    \n",
    "    # We fill the list with the file names.\n",
    "    for i in range(len(pandas_file_dir)):\n",
    "        dataframe = pd.read_csv(pandas_file_dir[i], index_col = 'Unnamed: 0')\n",
    "        list_for_checking_repeating.append(dataframe['file_generation_number'].iloc[0])\n",
    "\n",
    "    \n",
    "    # Search for the name of the repeating file.\n",
    "    repeat = [item for item, count in Counter(list_for_checking_repeating).items() if count > 1]   \n",
    "    \n",
    "    repeating_files = []\n",
    "    # Searching for the number of the repeating file in the folder.\n",
    "    for i in range(len(pandas_file_dir)):\n",
    "        dataframe = pd.read_csv(pandas_file_dir[i], index_col = 'Unnamed: 0')\n",
    "        if dataframe['file_generation_number'].iloc[0] == repeat[0]:\n",
    "            repeating_files.append(i)\n",
    "    \n",
    "    os.remove(pandas_file_dir[repeating_files[1]])\n",
    "    \n",
    "    \n",
    "    \n",
    "    return repeating_files, repeat[0]\n",
    "    \n",
    "    "
   ]
  },
  {
   "cell_type": "code",
   "execution_count": 18,
   "id": "e60b16b6",
   "metadata": {
    "scrolled": true
   },
   "outputs": [
    {
     "data": {
      "text/plain": [
       "([9, 10], 'PN000010')"
      ]
     },
     "execution_count": 18,
     "metadata": {},
     "output_type": "execute_result"
    }
   ],
   "source": [
    "repetition_remover(pandas_file_dir)"
   ]
  },
  {
   "cell_type": "markdown",
   "id": "61eecf8d",
   "metadata": {},
   "source": [
    "#### After deleting the repeating file we need to refresh the variable 'pandas_file_dir'."
   ]
  },
  {
   "cell_type": "code",
   "execution_count": 19,
   "id": "b1d274ca",
   "metadata": {},
   "outputs": [],
   "source": [
    "# We assign 'pandas_file_dir' be string with the path to the copied sample data files.\n",
    "try:\n",
    "    pandas_file_dir = path_merger('./pandas_data/')\n",
    "except FileNotFoundError as err:\n",
    "    print('FileNotFoundError: [WinError 3] The system cannot find the specified path. Please try again.')"
   ]
  },
  {
   "cell_type": "code",
   "execution_count": 20,
   "id": "452e9e11",
   "metadata": {},
   "outputs": [
    {
     "data": {
      "text/plain": [
       "10"
      ]
     },
     "execution_count": 20,
     "metadata": {},
     "output_type": "execute_result"
    }
   ],
   "source": [
    "len(pandas_file_dir)"
   ]
  },
  {
   "cell_type": "markdown",
   "id": "62ecf66a",
   "metadata": {},
   "source": [
    "#### The file with repeating data was successfully removed. If we run the whole program and open at the same time the folder 'pandas_data' we can see the whole process happening infront of us."
   ]
  },
  {
   "cell_type": "markdown",
   "id": "eae64e94",
   "metadata": {},
   "source": [
    "# "
   ]
  },
  {
   "cell_type": "markdown",
   "id": "75b5807c",
   "metadata": {},
   "source": [
    "#### The next step we can do is to convert the date and time columns to datetime column."
   ]
  },
  {
   "cell_type": "code",
   "execution_count": 21,
   "id": "c57f5002",
   "metadata": {},
   "outputs": [],
   "source": [
    "def columns_to_dateframe_column(filtered_file_list, date_column, time_column, new_column_name):\n",
    "    '''\n",
    "    !!! WARNING !!!\n",
    "    Because this function modifies the dataframe, we must run it only once. If run twice error will appear.\n",
    "    \n",
    "    This function converts 'time' and 'date' columns from a 'dataframe' to a new 'datetime' column.\n",
    "    Depending on the needs we might have to remove the initial 'date_column' and 'time_column', which\n",
    "    will be replaced by 'new_column_name'.\n",
    "    '''   \n",
    "    \n",
    "    for i in range(len(filtered_file_list)):\n",
    "        # We can skip the footer, because it is full of 'NaN'-s, clear the header.\n",
    "        dataframe = pd.read_csv(filtered_file_list[i], index_col = 'Unnamed: 0')\n",
    "    \n",
    "        #'SettingWithCopyWarning' warning pops up and tells us that 'A value is trying to be set on a copy of a \n",
    "        #       slice from a DataFrame'.\n",
    "        # We can ignore this warning, because we have the main data in other folder. \n",
    "        # The first line below deactivates 'SettingWithCopyWarning', which is not useful in our case.\n",
    "\n",
    "        pd.set_option('mode.chained_assignment', None)\n",
    "\n",
    "\n",
    "        # Adds zeros to reach the proper number of values.\n",
    "        for j in range(len(dataframe)):\n",
    "            if len(str(dataframe[time_column].iloc[j])) == 1:\n",
    "                 dataframe[time_column].iloc[j] = '000' + str(dataframe[time_column].iloc[j]) + '00'\n",
    "            elif len(str(dataframe[time_column].iloc[j])) == 2:\n",
    "                dataframe[time_column].iloc[j] = '00' + str(dataframe[time_column].iloc[j]) + '00'\n",
    "            elif len(str(dataframe[time_column].iloc[j])) == 3:\n",
    "                dataframe[time_column].iloc[j] = '0' + str(dataframe[time_column].iloc[j]) + '00'\n",
    "            elif len(str(dataframe[time_column].iloc[j])) == 4:\n",
    "                dataframe[time_column].iloc[j] = str(dataframe[time_column].iloc[j]) + '00'\n",
    "\n",
    "\n",
    "        # Adding ':' and '/' to match the time format.\n",
    "        for k in range(len(dataframe)):\n",
    "            dataframe[date_column].iloc[k] = str(dataframe[date_column].iloc[k])[:4] + '/' + str(dataframe[date_column].iloc[k])[4:6] + '/' + str(dataframe[date_column].iloc[k])[6:8]\n",
    "            dataframe[time_column].iloc[k] = str(dataframe[time_column].iloc[k])[:2] + ':' + str(dataframe[time_column].iloc[k])[2:4] + ':' + str(dataframe[time_column].iloc[k])[4:6]\n",
    "\n",
    "\n",
    "        # Creating new column for the datetime.\n",
    "        dataframe[new_column_name] = dataframe[date_column] + ' ' + dataframe[time_column]\n",
    "\n",
    "\n",
    "        # Converting the newly create column to datetime.\n",
    "        pd.to_datetime(dataframe[new_column_name])\n",
    "\n",
    "\n",
    "        # We might want to remove the 'date_column' and 'time_column' we used to create the 'datetime column'.\n",
    "        # On the other hand if we want to leave them in we can comment out the lines below.\n",
    "        dataframe.drop([date_column, time_column], axis = 1, inplace = True)\n",
    "        \n",
    "        dataframe.to_csv(filtered_file_list[i], encoding='utf-8')\n",
    "\n",
    "#    return dataframe.head()"
   ]
  },
  {
   "cell_type": "code",
   "execution_count": 22,
   "id": "1e5db1d5",
   "metadata": {},
   "outputs": [],
   "source": [
    "# Applying the changes to all of the files\n",
    "columns_to_dateframe_column(pandas_file_dir, 'measurement_date', 'measurement_time', 'measurement_datetime')\n",
    "columns_to_dateframe_column(pandas_file_dir, 'file_creation_date', 'file_creation_time', 'file_creation_datetime')"
   ]
  },
  {
   "cell_type": "markdown",
   "id": "1e526086",
   "metadata": {},
   "source": [
    "#### Let's see an example of the work we have done so far."
   ]
  },
  {
   "cell_type": "code",
   "execution_count": 23,
   "id": "5bbf90b3",
   "metadata": {},
   "outputs": [],
   "source": [
    "test_2 = pd.read_csv(pandas_file_dir[0], index_col = 'Unnamed: 0')"
   ]
  },
  {
   "cell_type": "code",
   "execution_count": 24,
   "id": "40d2b1a8",
   "metadata": {
    "scrolled": true
   },
   "outputs": [
    {
     "data": {
      "text/html": [
       "<div>\n",
       "<style scoped>\n",
       "    .dataframe tbody tr th:only-of-type {\n",
       "        vertical-align: middle;\n",
       "    }\n",
       "\n",
       "    .dataframe tbody tr th {\n",
       "        vertical-align: top;\n",
       "    }\n",
       "\n",
       "    .dataframe thead th {\n",
       "        text-align: right;\n",
       "    }\n",
       "</style>\n",
       "<table border=\"1\" class=\"dataframe\">\n",
       "  <thead>\n",
       "    <tr style=\"text-align: right;\">\n",
       "      <th></th>\n",
       "      <th>record_identifier</th>\n",
       "      <th>meter_number</th>\n",
       "      <th>consumption</th>\n",
       "      <th>file_type_identifier</th>\n",
       "      <th>company_id</th>\n",
       "      <th>file_generation_number</th>\n",
       "      <th>measurement_datetime</th>\n",
       "      <th>file_creation_datetime</th>\n",
       "    </tr>\n",
       "  </thead>\n",
       "  <tbody>\n",
       "    <tr>\n",
       "      <th>1</th>\n",
       "      <td>CONSU</td>\n",
       "      <td>2</td>\n",
       "      <td>10.28</td>\n",
       "      <td>SMRT</td>\n",
       "      <td>GAZ</td>\n",
       "      <td>PN000001</td>\n",
       "      <td>2019/10/14 11:00:00</td>\n",
       "      <td>2019/10/16 10:29:39</td>\n",
       "    </tr>\n",
       "    <tr>\n",
       "      <th>2</th>\n",
       "      <td>CONSU</td>\n",
       "      <td>2</td>\n",
       "      <td>2.84</td>\n",
       "      <td>SMRT</td>\n",
       "      <td>GAZ</td>\n",
       "      <td>PN000001</td>\n",
       "      <td>2019/10/14 12:00:00</td>\n",
       "      <td>2019/10/16 10:29:39</td>\n",
       "    </tr>\n",
       "    <tr>\n",
       "      <th>3</th>\n",
       "      <td>CONSU</td>\n",
       "      <td>2</td>\n",
       "      <td>14.65</td>\n",
       "      <td>SMRT</td>\n",
       "      <td>GAZ</td>\n",
       "      <td>PN000001</td>\n",
       "      <td>2019/10/14 13:00:00</td>\n",
       "      <td>2019/10/16 10:29:39</td>\n",
       "    </tr>\n",
       "    <tr>\n",
       "      <th>4</th>\n",
       "      <td>CONSU</td>\n",
       "      <td>2</td>\n",
       "      <td>11.69</td>\n",
       "      <td>SMRT</td>\n",
       "      <td>GAZ</td>\n",
       "      <td>PN000001</td>\n",
       "      <td>2019/10/14 14:00:00</td>\n",
       "      <td>2019/10/16 10:29:39</td>\n",
       "    </tr>\n",
       "    <tr>\n",
       "      <th>5</th>\n",
       "      <td>CONSU</td>\n",
       "      <td>2</td>\n",
       "      <td>14.02</td>\n",
       "      <td>SMRT</td>\n",
       "      <td>GAZ</td>\n",
       "      <td>PN000001</td>\n",
       "      <td>2019/10/14 15:00:00</td>\n",
       "      <td>2019/10/16 10:29:39</td>\n",
       "    </tr>\n",
       "  </tbody>\n",
       "</table>\n",
       "</div>"
      ],
      "text/plain": [
       "  record_identifier  meter_number  consumption file_type_identifier  \\\n",
       "1             CONSU             2        10.28                 SMRT   \n",
       "2             CONSU             2         2.84                 SMRT   \n",
       "3             CONSU             2        14.65                 SMRT   \n",
       "4             CONSU             2        11.69                 SMRT   \n",
       "5             CONSU             2        14.02                 SMRT   \n",
       "\n",
       "  company_id file_generation_number measurement_datetime  \\\n",
       "1        GAZ               PN000001  2019/10/14 11:00:00   \n",
       "2        GAZ               PN000001  2019/10/14 12:00:00   \n",
       "3        GAZ               PN000001  2019/10/14 13:00:00   \n",
       "4        GAZ               PN000001  2019/10/14 14:00:00   \n",
       "5        GAZ               PN000001  2019/10/14 15:00:00   \n",
       "\n",
       "  file_creation_datetime  \n",
       "1    2019/10/16 10:29:39  \n",
       "2    2019/10/16 10:29:39  \n",
       "3    2019/10/16 10:29:39  \n",
       "4    2019/10/16 10:29:39  \n",
       "5    2019/10/16 10:29:39  "
      ]
     },
     "execution_count": 24,
     "metadata": {},
     "output_type": "execute_result"
    }
   ],
   "source": [
    "test_2.head()"
   ]
  },
  {
   "cell_type": "markdown",
   "id": "0041274e",
   "metadata": {},
   "source": [
    "#### We can see that some of the information in the columns remains the same. But I prefer to leave it like that."
   ]
  },
  {
   "cell_type": "markdown",
   "id": "78cfb9e8",
   "metadata": {},
   "source": [
    "#### Next we can combine all the files from the 'pandas_data' folder. To make that file unique to the we can see that the file name has appended the file creation time."
   ]
  },
  {
   "cell_type": "code",
   "execution_count": 25,
   "id": "8adec259",
   "metadata": {},
   "outputs": [],
   "source": [
    "# Combining the files.\n",
    "\n",
    "# Empty list.\n",
    "df_list = []\n",
    "\n",
    "for i in range(len(pandas_file_dir)):\n",
    "    dataframe = pd.read_csv(pandas_file_dir[i], index_col = 'Unnamed: 0')\n",
    "    df_list.append(dataframe)\n",
    "    \n",
    "combined_dataframe = pd.concat(df_list, axis = 0)\n",
    "\n",
    "combined_dataframe.to_csv('combined_dataframe_' + str(strftime(\"%Y-%m-%d_%H:%M:%S\", gmtime())).replace(':','.') + '.csv')"
   ]
  },
  {
   "cell_type": "markdown",
   "id": "c63e528b",
   "metadata": {},
   "source": [
    "#### We can check in the main folder to see the name of the combined dataframe."
   ]
  },
  {
   "cell_type": "markdown",
   "id": "74256356",
   "metadata": {},
   "source": [
    "#### Now there are columns with data that is constant, but it might be useful to let it stay. After all it is not hard to delete columns or to combine the content of the all of the constant columns and combine it into one. For now I am happy with the result."
   ]
  },
  {
   "cell_type": "markdown",
   "id": "2ab98b2d",
   "metadata": {},
   "source": [
    "#### \n",
    "#### SQLite3"
   ]
  },
  {
   "cell_type": "code",
   "execution_count": 26,
   "id": "d8215718",
   "metadata": {},
   "outputs": [],
   "source": [
    "# Creates SQL table from the combined *.CSV file\n",
    "\n",
    "# Instantiate new table\n",
    "con = sql.connect('./gas_metering_data.db')\n",
    "cur = con.cursor()\n",
    "cur.execute(\"CREATE TABLE IF NOT EXISTS gas_table (record_identifier, meter_number, consumption, file_type_identifier, company_id, file_generation_number, measurement_datetime, file_creation_datetime);\") # use your column names here\n",
    "\n",
    "\n",
    "with open('combined_dataframe_2021-09-12_07.07.13.csv', 'r') as fin:\n",
    "    dr = csv.DictReader(fin) # comma is default delimiter\n",
    "    to_db = [(i['record_identifier'],\n",
    "              i['meter_number'], \n",
    "              i['consumption'],\n",
    "              i['file_type_identifier'],\n",
    "              i['company_id'],\n",
    "              i['file_generation_number'],\n",
    "              i['measurement_datetime'],\n",
    "              i['file_creation_datetime']) for i in dr]\n",
    "\n",
    "\n",
    "\n",
    "cur.executemany(\"INSERT INTO gas_table (record_identifier, meter_number, consumption, file_type_identifier, company_id, file_generation_number, measurement_datetime, file_creation_datetime) VALUES (?, ?, ?, ?, ?, ?, ?, ?);\", to_db)\n",
    "con.commit()\n",
    "con.close()"
   ]
  },
  {
   "cell_type": "markdown",
   "id": "8cd023ce",
   "metadata": {},
   "source": [
    "#### The above cell creates SQLite3 table. It works and can be viewed online. \n",
    "#### Below you can see how I tried to amend the write/read options of the file/folder. I used to get:\n",
    "#### OperationalError: unable to open database file."
   ]
  },
  {
   "cell_type": "code",
   "execution_count": 27,
   "id": "80b44c10",
   "metadata": {},
   "outputs": [],
   "source": [
    "os.chmod('C:/Users/Jessica/Desktop/- Mladen Tsolov - GazpromEnergyDataEngineerCodeTest/gas_metering_data.db', 0o664)"
   ]
  },
  {
   "cell_type": "code",
   "execution_count": 28,
   "id": "5dfc37d2",
   "metadata": {},
   "outputs": [],
   "source": [
    "os.chmod(\n",
    "    'C:/Users/Jessica/Desktop/- Mladen Tsolov - GazpromEnergyDataEngineerCodeTest/gas_metering_data.db',\n",
    "    stat.S_IRUSR |\n",
    "    stat.S_IWUSR |\n",
    "    stat.S_IXUSR |\n",
    "    stat.S_IRGRP |\n",
    "    stat.S_IWGRP |\n",
    "    stat.S_IXGRP |\n",
    "    stat.S_IROTH |\n",
    "    stat.S_IWOTH |\n",
    "    stat.S_IXOTH |\n",
    "    stat.S_IEXEC |\n",
    "    stat.S_IRWXU |\n",
    "    stat.S_IRWXG |\n",
    "    stat.S_IRWXO |\n",
    "    stat.S_IREAD |\n",
    "    stat.S_IWRITE)\n",
    "\n",
    "\n",
    "# S_IRUSR  (00400)  read by owner\n",
    "# S_IWUSR  (00200)  write by owner\n",
    "# S_IXUSR  (00100)  execute/search by owner\n",
    "# S_IRGRP  (00040)  read by group\n",
    "# S_IWGRP  (00020)  write by group\n",
    "# S_IXGRP  (00010)  execute/search by group\n",
    "# S_IROTH  (00004)  read by others\n",
    "# S_IWOTH  (00002)  write by others\n",
    "# S_IXOTH  (000\n",
    "# stat.S_ISUID : Set user ID on execution\n",
    "# stat.S_ISGID : Set group ID on execution\n",
    "# stat.S_ENFMT : Record locking enforced\n",
    "# stat.S_ISVTX : Save text image after execution\n",
    "# stat.S_IREAD : Read by owner.\n",
    "# stat.S_IWRITE : Write by owner.\n",
    "# stat.S_IEXEC : Execute by owner.\n",
    "# stat.S_IRWXU : Read, write, and execute by owner\n",
    "# stat.S_IRUSR : Read by owner\n",
    "# stat.S_IWUSR : Write by owner.\n",
    "# stat.S_IXUSR : Execute by owner.\n",
    "# stat.S_IRWXG : Read, write, and execute by group\n",
    "# stat.S_IRGRP : Read by group\n",
    "# stat.S_IWGRP : Write by group\n",
    "# stat.S_IXGRP : Execute by group\n",
    "# stat.S_IRWXO : Read, write, and execute by others.\n",
    "# stat.S_IROTH : Read by others\n",
    "# stat.S_IWOTH : Write by others\n",
    "# stat.S_IXOTH : Execute by others"
   ]
  },
  {
   "cell_type": "markdown",
   "id": "3a857637",
   "metadata": {},
   "source": [
    "#### This is the actual SQL query."
   ]
  },
  {
   "cell_type": "code",
   "execution_count": 29,
   "id": "6699766f",
   "metadata": {
    "scrolled": true
   },
   "outputs": [
    {
     "data": {
      "text/html": [
       "<div>\n",
       "<style scoped>\n",
       "    .dataframe tbody tr th:only-of-type {\n",
       "        vertical-align: middle;\n",
       "    }\n",
       "\n",
       "    .dataframe tbody tr th {\n",
       "        vertical-align: top;\n",
       "    }\n",
       "\n",
       "    .dataframe thead th {\n",
       "        text-align: right;\n",
       "    }\n",
       "</style>\n",
       "<table border=\"1\" class=\"dataframe\">\n",
       "  <thead>\n",
       "    <tr style=\"text-align: right;\">\n",
       "      <th></th>\n",
       "      <th>record_identifier</th>\n",
       "      <th>meter_number</th>\n",
       "      <th>consumption</th>\n",
       "      <th>file_type_identifier</th>\n",
       "      <th>company_id</th>\n",
       "      <th>file_generation_number</th>\n",
       "      <th>measurement_datetime</th>\n",
       "      <th>file_creation_datetime</th>\n",
       "    </tr>\n",
       "  </thead>\n",
       "  <tbody>\n",
       "    <tr>\n",
       "      <th>0</th>\n",
       "      <td>CONSU</td>\n",
       "      <td>2</td>\n",
       "      <td>10.28</td>\n",
       "      <td>SMRT</td>\n",
       "      <td>GAZ</td>\n",
       "      <td>PN000001</td>\n",
       "      <td>2019/10/14 11:00:00</td>\n",
       "      <td>2019/10/16 10:29:39</td>\n",
       "    </tr>\n",
       "    <tr>\n",
       "      <th>1</th>\n",
       "      <td>CONSU</td>\n",
       "      <td>2</td>\n",
       "      <td>2.84</td>\n",
       "      <td>SMRT</td>\n",
       "      <td>GAZ</td>\n",
       "      <td>PN000001</td>\n",
       "      <td>2019/10/14 12:00:00</td>\n",
       "      <td>2019/10/16 10:29:39</td>\n",
       "    </tr>\n",
       "    <tr>\n",
       "      <th>2</th>\n",
       "      <td>CONSU</td>\n",
       "      <td>2</td>\n",
       "      <td>14.65</td>\n",
       "      <td>SMRT</td>\n",
       "      <td>GAZ</td>\n",
       "      <td>PN000001</td>\n",
       "      <td>2019/10/14 13:00:00</td>\n",
       "      <td>2019/10/16 10:29:39</td>\n",
       "    </tr>\n",
       "    <tr>\n",
       "      <th>3</th>\n",
       "      <td>CONSU</td>\n",
       "      <td>2</td>\n",
       "      <td>11.69</td>\n",
       "      <td>SMRT</td>\n",
       "      <td>GAZ</td>\n",
       "      <td>PN000001</td>\n",
       "      <td>2019/10/14 14:00:00</td>\n",
       "      <td>2019/10/16 10:29:39</td>\n",
       "    </tr>\n",
       "    <tr>\n",
       "      <th>4</th>\n",
       "      <td>CONSU</td>\n",
       "      <td>2</td>\n",
       "      <td>14.02</td>\n",
       "      <td>SMRT</td>\n",
       "      <td>GAZ</td>\n",
       "      <td>PN000001</td>\n",
       "      <td>2019/10/14 15:00:00</td>\n",
       "      <td>2019/10/16 10:29:39</td>\n",
       "    </tr>\n",
       "  </tbody>\n",
       "</table>\n",
       "</div>"
      ],
      "text/plain": [
       "  record_identifier meter_number consumption file_type_identifier company_id  \\\n",
       "0             CONSU            2       10.28                 SMRT        GAZ   \n",
       "1             CONSU            2        2.84                 SMRT        GAZ   \n",
       "2             CONSU            2       14.65                 SMRT        GAZ   \n",
       "3             CONSU            2       11.69                 SMRT        GAZ   \n",
       "4             CONSU            2       14.02                 SMRT        GAZ   \n",
       "\n",
       "  file_generation_number measurement_datetime file_creation_datetime  \n",
       "0               PN000001  2019/10/14 11:00:00    2019/10/16 10:29:39  \n",
       "1               PN000001  2019/10/14 12:00:00    2019/10/16 10:29:39  \n",
       "2               PN000001  2019/10/14 13:00:00    2019/10/16 10:29:39  \n",
       "3               PN000001  2019/10/14 14:00:00    2019/10/16 10:29:39  \n",
       "4               PN000001  2019/10/14 15:00:00    2019/10/16 10:29:39  "
      ]
     },
     "execution_count": 29,
     "metadata": {},
     "output_type": "execute_result"
    }
   ],
   "source": [
    "# SQL query\n",
    "\n",
    "conn = sql.connect('C:/Users/Jessica/Desktop/- Mladen Tsolov - GazpromEnergyDataEngineerCodeTest/gas_metering_data.db')\n",
    "gas_metering_data = pd.read_sql('SELECT * FROM gas_table', conn)\n",
    "\n",
    "gas_metering_data.head()"
   ]
  },
  {
   "cell_type": "code",
   "execution_count": 30,
   "id": "210a10ab",
   "metadata": {},
   "outputs": [],
   "source": [
    "def sql_query(database_path, query):\n",
    "    '''\n",
    "    This function does SQL queries.\n",
    "    '''\n",
    "   \n",
    "    conn = sql.connect(database_path)\n",
    "    gas_metering_data = pd.read_sql(query, conn)\n",
    "    return gas_metering_data"
   ]
  },
  {
   "cell_type": "markdown",
   "id": "5433482c",
   "metadata": {},
   "source": [
    "### "
   ]
  },
  {
   "cell_type": "markdown",
   "id": "9a3836d5",
   "metadata": {},
   "source": [
    "#### Below you can see example queries."
   ]
  },
  {
   "cell_type": "code",
   "execution_count": 31,
   "id": "0a639b1e",
   "metadata": {},
   "outputs": [
    {
     "data": {
      "text/html": [
       "<div>\n",
       "<style scoped>\n",
       "    .dataframe tbody tr th:only-of-type {\n",
       "        vertical-align: middle;\n",
       "    }\n",
       "\n",
       "    .dataframe tbody tr th {\n",
       "        vertical-align: top;\n",
       "    }\n",
       "\n",
       "    .dataframe thead th {\n",
       "        text-align: right;\n",
       "    }\n",
       "</style>\n",
       "<table border=\"1\" class=\"dataframe\">\n",
       "  <thead>\n",
       "    <tr style=\"text-align: right;\">\n",
       "      <th></th>\n",
       "      <th>COUNT ( DISTINCT meter_number )</th>\n",
       "    </tr>\n",
       "  </thead>\n",
       "  <tbody>\n",
       "    <tr>\n",
       "      <th>0</th>\n",
       "      <td>10</td>\n",
       "    </tr>\n",
       "  </tbody>\n",
       "</table>\n",
       "</div>"
      ],
      "text/plain": [
       "   COUNT ( DISTINCT meter_number )\n",
       "0                               10"
      ]
     },
     "execution_count": 31,
     "metadata": {},
     "output_type": "execute_result"
    }
   ],
   "source": [
    "# 1. How many meters are in the dataset?\n",
    "# -- SELECT COUNT ( DISTINCT meter_number ) FROM gas_table;\n",
    "\n",
    "sql_query('C:/Users/Jessica/Desktop/- Mladen Tsolov - GazpromEnergyDataEngineerCodeTest/gas_metering_data.db',\n",
    "          'SELECT COUNT ( DISTINCT meter_number ) FROM gas_table')"
   ]
  },
  {
   "cell_type": "code",
   "execution_count": 32,
   "id": "602d7338",
   "metadata": {
    "scrolled": true
   },
   "outputs": [
    {
     "data": {
      "text/html": [
       "<div>\n",
       "<style scoped>\n",
       "    .dataframe tbody tr th:only-of-type {\n",
       "        vertical-align: middle;\n",
       "    }\n",
       "\n",
       "    .dataframe tbody tr th {\n",
       "        vertical-align: top;\n",
       "    }\n",
       "\n",
       "    .dataframe thead th {\n",
       "        text-align: right;\n",
       "    }\n",
       "</style>\n",
       "<table border=\"1\" class=\"dataframe\">\n",
       "  <thead>\n",
       "    <tr style=\"text-align: right;\">\n",
       "      <th></th>\n",
       "      <th>record_identifier</th>\n",
       "      <th>meter_number</th>\n",
       "      <th>consumption</th>\n",
       "      <th>file_type_identifier</th>\n",
       "      <th>company_id</th>\n",
       "      <th>file_generation_number</th>\n",
       "      <th>measurement_datetime</th>\n",
       "      <th>file_creation_datetime</th>\n",
       "    </tr>\n",
       "  </thead>\n",
       "  <tbody>\n",
       "    <tr>\n",
       "      <th>0</th>\n",
       "      <td>CONSU</td>\n",
       "      <td>9</td>\n",
       "      <td>15.43</td>\n",
       "      <td>SMRT</td>\n",
       "      <td>GAZ</td>\n",
       "      <td>PN000005</td>\n",
       "      <td>2019/10/15 13:00:00</td>\n",
       "      <td>2019/10/16 10:29:44</td>\n",
       "    </tr>\n",
       "    <tr>\n",
       "      <th>1</th>\n",
       "      <td>CONSU</td>\n",
       "      <td>9</td>\n",
       "      <td>9.08</td>\n",
       "      <td>SMRT</td>\n",
       "      <td>GAZ</td>\n",
       "      <td>PN000005</td>\n",
       "      <td>2019/10/15 14:00:00</td>\n",
       "      <td>2019/10/16 10:29:44</td>\n",
       "    </tr>\n",
       "    <tr>\n",
       "      <th>2</th>\n",
       "      <td>CONSU</td>\n",
       "      <td>9</td>\n",
       "      <td>4.69</td>\n",
       "      <td>SMRT</td>\n",
       "      <td>GAZ</td>\n",
       "      <td>PN000005</td>\n",
       "      <td>2019/10/15 15:00:00</td>\n",
       "      <td>2019/10/16 10:29:44</td>\n",
       "    </tr>\n",
       "    <tr>\n",
       "      <th>3</th>\n",
       "      <td>CONSU</td>\n",
       "      <td>9</td>\n",
       "      <td>6.24</td>\n",
       "      <td>SMRT</td>\n",
       "      <td>GAZ</td>\n",
       "      <td>PN000005</td>\n",
       "      <td>2019/10/15 16:00:00</td>\n",
       "      <td>2019/10/16 10:29:44</td>\n",
       "    </tr>\n",
       "    <tr>\n",
       "      <th>4</th>\n",
       "      <td>CONSU</td>\n",
       "      <td>9</td>\n",
       "      <td>11.89</td>\n",
       "      <td>SMRT</td>\n",
       "      <td>GAZ</td>\n",
       "      <td>PN000005</td>\n",
       "      <td>2019/10/15 17:00:00</td>\n",
       "      <td>2019/10/16 10:29:44</td>\n",
       "    </tr>\n",
       "  </tbody>\n",
       "</table>\n",
       "</div>"
      ],
      "text/plain": [
       "  record_identifier meter_number consumption file_type_identifier company_id  \\\n",
       "0             CONSU            9       15.43                 SMRT        GAZ   \n",
       "1             CONSU            9        9.08                 SMRT        GAZ   \n",
       "2             CONSU            9        4.69                 SMRT        GAZ   \n",
       "3             CONSU            9        6.24                 SMRT        GAZ   \n",
       "4             CONSU            9       11.89                 SMRT        GAZ   \n",
       "\n",
       "  file_generation_number measurement_datetime file_creation_datetime  \n",
       "0               PN000005  2019/10/15 13:00:00    2019/10/16 10:29:44  \n",
       "1               PN000005  2019/10/15 14:00:00    2019/10/16 10:29:44  \n",
       "2               PN000005  2019/10/15 15:00:00    2019/10/16 10:29:44  \n",
       "3               PN000005  2019/10/15 16:00:00    2019/10/16 10:29:44  \n",
       "4               PN000005  2019/10/15 17:00:00    2019/10/16 10:29:44  "
      ]
     },
     "execution_count": 32,
     "metadata": {},
     "output_type": "execute_result"
    }
   ],
   "source": [
    "# -- 2. What is all the data for a given meter?\n",
    "# -- SELECT * FROM gas_table WHERE meter_number = '9';\n",
    "\n",
    "meter_9_data = sql_query('C:/Users/Jessica/Desktop/- Mladen Tsolov - GazpromEnergyDataEngineerCodeTest/gas_metering_data.db',\n",
    "          'SELECT * FROM gas_table WHERE meter_number = \"9\"')\n",
    "\n",
    "meter_9_data.head()"
   ]
  },
  {
   "cell_type": "code",
   "execution_count": 33,
   "id": "e2ced398",
   "metadata": {
    "scrolled": true
   },
   "outputs": [
    {
     "data": {
      "text/html": [
       "<div>\n",
       "<style scoped>\n",
       "    .dataframe tbody tr th:only-of-type {\n",
       "        vertical-align: middle;\n",
       "    }\n",
       "\n",
       "    .dataframe tbody tr th {\n",
       "        vertical-align: top;\n",
       "    }\n",
       "\n",
       "    .dataframe thead th {\n",
       "        text-align: right;\n",
       "    }\n",
       "</style>\n",
       "<table border=\"1\" class=\"dataframe\">\n",
       "  <thead>\n",
       "    <tr style=\"text-align: right;\">\n",
       "      <th></th>\n",
       "      <th>COUNT ( DISTINCT file_generation_number )</th>\n",
       "    </tr>\n",
       "  </thead>\n",
       "  <tbody>\n",
       "    <tr>\n",
       "      <th>0</th>\n",
       "      <td>10</td>\n",
       "    </tr>\n",
       "  </tbody>\n",
       "</table>\n",
       "</div>"
      ],
      "text/plain": [
       "   COUNT ( DISTINCT file_generation_number )\n",
       "0                                         10"
      ]
     },
     "execution_count": 33,
     "metadata": {},
     "output_type": "execute_result"
    }
   ],
   "source": [
    "# -- 3. How many files have we recieved?\n",
    "# -- SELECT COUNT ( DISTINCT file_generation_number ) FROM gas_table;\n",
    "\n",
    "sql_query('C:/Users/Jessica/Desktop/- Mladen Tsolov - GazpromEnergyDataEngineerCodeTest/gas_metering_data.db',\n",
    "          'SELECT COUNT ( DISTINCT file_generation_number ) FROM gas_table')"
   ]
  },
  {
   "cell_type": "code",
   "execution_count": 34,
   "id": "8c5980b1",
   "metadata": {},
   "outputs": [
    {
     "data": {
      "text/html": [
       "<div>\n",
       "<style scoped>\n",
       "    .dataframe tbody tr th:only-of-type {\n",
       "        vertical-align: middle;\n",
       "    }\n",
       "\n",
       "    .dataframe tbody tr th {\n",
       "        vertical-align: top;\n",
       "    }\n",
       "\n",
       "    .dataframe thead th {\n",
       "        text-align: right;\n",
       "    }\n",
       "</style>\n",
       "<table border=\"1\" class=\"dataframe\">\n",
       "  <thead>\n",
       "    <tr style=\"text-align: right;\">\n",
       "      <th></th>\n",
       "      <th>file_generation_number</th>\n",
       "    </tr>\n",
       "  </thead>\n",
       "  <tbody>\n",
       "    <tr>\n",
       "      <th>0</th>\n",
       "      <td>PN000010</td>\n",
       "    </tr>\n",
       "  </tbody>\n",
       "</table>\n",
       "</div>"
      ],
      "text/plain": [
       "  file_generation_number\n",
       "0               PN000010"
      ]
     },
     "execution_count": 34,
     "metadata": {},
     "output_type": "execute_result"
    }
   ],
   "source": [
    "#  -- 4. What was the last file to be recieved?\n",
    "# -- SELECT file_generation_number FROM gas_table ORDER BY file_generation_number DESC LIMIT 1;\n",
    "\n",
    "sql_query('C:/Users/Jessica/Desktop/- Mladen Tsolov - GazpromEnergyDataEngineerCodeTest/gas_metering_data.db',\n",
    "          'SELECT file_generation_number FROM gas_table ORDER BY file_generation_number DESC LIMIT 1')"
   ]
  },
  {
   "cell_type": "code",
   "execution_count": 35,
   "id": "c67fa128",
   "metadata": {
    "scrolled": true
   },
   "outputs": [
    {
     "data": {
      "text/html": [
       "<div>\n",
       "<style scoped>\n",
       "    .dataframe tbody tr th:only-of-type {\n",
       "        vertical-align: middle;\n",
       "    }\n",
       "\n",
       "    .dataframe tbody tr th {\n",
       "        vertical-align: top;\n",
       "    }\n",
       "\n",
       "    .dataframe thead th {\n",
       "        text-align: right;\n",
       "    }\n",
       "</style>\n",
       "<table border=\"1\" class=\"dataframe\">\n",
       "  <thead>\n",
       "    <tr style=\"text-align: right;\">\n",
       "      <th></th>\n",
       "      <th>measurement_datetime</th>\n",
       "      <th>consumption</th>\n",
       "    </tr>\n",
       "  </thead>\n",
       "  <tbody>\n",
       "    <tr>\n",
       "      <th>0</th>\n",
       "      <td>2019/10/14 11:00:00</td>\n",
       "      <td>12.01</td>\n",
       "    </tr>\n",
       "    <tr>\n",
       "      <th>1</th>\n",
       "      <td>2019/10/14 12:00:00</td>\n",
       "      <td>5.74</td>\n",
       "    </tr>\n",
       "    <tr>\n",
       "      <th>2</th>\n",
       "      <td>2019/10/14 13:00:00</td>\n",
       "      <td>19.36</td>\n",
       "    </tr>\n",
       "    <tr>\n",
       "      <th>3</th>\n",
       "      <td>2019/10/14 14:00:00</td>\n",
       "      <td>6.59</td>\n",
       "    </tr>\n",
       "    <tr>\n",
       "      <th>4</th>\n",
       "      <td>2019/10/14 15:00:00</td>\n",
       "      <td>3.86</td>\n",
       "    </tr>\n",
       "  </tbody>\n",
       "</table>\n",
       "</div>"
      ],
      "text/plain": [
       "  measurement_datetime consumption\n",
       "0  2019/10/14 11:00:00       12.01\n",
       "1  2019/10/14 12:00:00        5.74\n",
       "2  2019/10/14 13:00:00       19.36\n",
       "3  2019/10/14 14:00:00        6.59\n",
       "4  2019/10/14 15:00:00        3.86"
      ]
     },
     "execution_count": 35,
     "metadata": {},
     "output_type": "execute_result"
    }
   ],
   "source": [
    "# -- 5. Gas consumption for one meter for a day?\n",
    "# -- SELECT measurement_datetime, consumption\n",
    "# -- FROM gas_table \n",
    "# -- WHERE measurement_datetime BETWEEN \"2019/10/14 11:00:00\" \n",
    "# -- AND \"2019/10/14 23:00:00\" AND meter_number = \"7\";\n",
    "\n",
    "meter_7_consumption = sql_query('C:/Users/Jessica/Desktop/- Mladen Tsolov - GazpromEnergyDataEngineerCodeTest/gas_metering_data.db',\n",
    "          'SELECT measurement_datetime, consumption FROM gas_table WHERE measurement_datetime BETWEEN \"2019/10/14 11:00:00\" AND \"2019/10/14 23:00:00\" AND meter_number = \"7\"')\n",
    "meter_7_consumption.head()"
   ]
  },
  {
   "cell_type": "code",
   "execution_count": 36,
   "id": "54996c7d",
   "metadata": {},
   "outputs": [
    {
     "data": {
      "text/plain": [
       "measurement_datetime     object\n",
       "consumption             float64\n",
       "dtype: object"
      ]
     },
     "execution_count": 36,
     "metadata": {},
     "output_type": "execute_result"
    }
   ],
   "source": [
    "meter_7_consumption.index = meter_7_consumption.index.astype(np.int64)\n",
    "meter_7_consumption.consumption = meter_7_consumption.consumption.astype(np.float64)\n",
    "\n",
    "meter_7_consumption.dtypes"
   ]
  },
  {
   "cell_type": "code",
   "execution_count": 37,
   "id": "6491f0bc",
   "metadata": {},
   "outputs": [
    {
     "data": {
      "image/png": "[encoded data removed]",
      "text/plain": [
       "<Figure size 432x288 with 1 Axes>"
      ]
     },
     "metadata": {
      "needs_background": "light"
     },
     "output_type": "display_data"
    }
   ],
   "source": [
    "plt.plot(meter_7_consumption.index, meter_7_consumption.consumption)\n",
    "\n",
    "plt.title('Gas consumption measured by meter 7')\n",
    "plt.xlabel('Meter readings')\n",
    "plt.ylabel('Gas consumption')\n",
    "\n",
    "plt.show()"
   ]
  },
  {
   "cell_type": "markdown",
   "id": "e798e95c",
   "metadata": {},
   "source": [
    "#### Below you can see a sample function that creates a table. "
   ]
  },
  {
   "cell_type": "code",
   "execution_count": 38,
   "id": "8b5deec5",
   "metadata": {},
   "outputs": [],
   "source": [
    "def create_new_sql_table(csv_file_name, database_file_name):\n",
    "    \n",
    "    try:\n",
    "        sql_query_dataframe = pd.read_csv(csv_file_name, index_col = 'Unnamed: 0')\n",
    "    \n",
    "        conn = sql.connect(database_file_name + '.db')\n",
    "\n",
    "        sql_query_dataframe.to_sql(csv_file_name, conn)\n",
    "        \n",
    "        return (f'{database_file_name}.db created successfully.')\n",
    "    \n",
    "    \n",
    "    except FileNotFoundError:\n",
    "        return ('FileNotFoundError: [WinError 3] The system cannot find the specified path. Please try again.')\n",
    "    \n",
    "    except ValueError:\n",
    "        return (f'ValueError: Table {database_file_name}.db already exists.')"
   ]
  },
  {
   "cell_type": "markdown",
   "id": "1b89526e",
   "metadata": {},
   "source": [
    "### "
   ]
  },
  {
   "cell_type": "markdown",
   "id": "34213e32",
   "metadata": {},
   "source": [
    "#### The SQL queries can be done online as well. We can upload the database file to the URL and we can run the queries."
   ]
  },
  {
   "cell_type": "code",
   "execution_count": 39,
   "id": "a7f6a6b7",
   "metadata": {},
   "outputs": [],
   "source": [
    "# https://extendsclass.com/sqlite-browser.html#\n",
    "\n",
    "# -- Shows the complete table\n",
    "# -- SELECT * FROM gas_table;\n",
    "\n",
    "# -- 1. How many meters are in the dataset?\n",
    "# -- SELECT COUNT ( DISTINCT meter_number ) FROM gas_table;\n",
    "\n",
    "# -- 2. What is all the data for a given meter?\n",
    "# -- SELECT * FROM gas_table WHERE meter_number = '9';\n",
    "\n",
    "# -- 3. How many files have we recieved?\n",
    "# -- SELECT COUNT ( DISTINCT file_generation_number ) FROM gas_table;\n",
    "\n",
    "# -- 4. What was the last file to be recieved?\n",
    "# -- SELECT file_generation_number FROM gas_table ORDER BY file_generation_number DESC LIMIT 1;\n",
    "\n",
    "# -- 5. Gas consumption for one meter for a day?\n",
    "# -- SELECT measurement_datetime, consumption\n",
    "# -- FROM gas_table \n",
    "# -- WHERE measurement_datetime BETWEEN \"2019/10/14 11:00:00\" \n",
    "# -- AND \"2019/10/14 23:00:00\" AND meter_number = \"7\";"
   ]
  },
  {
   "cell_type": "markdown",
   "id": "7d0155e8",
   "metadata": {},
   "source": [
    "#### References:"
   ]
  },
  {
   "cell_type": "markdown",
   "id": "e9352bf4",
   "metadata": {},
   "source": [
    "#### https://docs.python.org/3/library/shutil.html\n",
    "#### https://stackoverflow.com/questions/123198/how-do-i-copy-a-file-inpython\n",
    "#### https://stackoverflow.com/questions/7356043/how-to-delete-specificstrings-from-a-file"
   ]
  }
 ],
 "metadata": {
  "kernelspec": {
   "display_name": "geo_env",
   "language": "python",
   "name": "geo_env"
  },
  "language_info": {
   "codemirror_mode": {
    "name": "ipython",
    "version": 3
   },
   "file_extension": ".py",
   "mimetype": "text/x-python",
   "name": "python",
   "nbconvert_exporter": "python",
   "pygments_lexer": "ipython3",
   "version": "3.9.6"
  }
 },
 "nbformat": 4,
 "nbformat_minor": 5
}
